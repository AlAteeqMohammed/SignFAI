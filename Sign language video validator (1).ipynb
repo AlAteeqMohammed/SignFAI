{
 "cells": [
  {
   "cell_type": "markdown",
   "metadata": {},
   "source": [
    "# Mediapipe"
   ]
  },
  {
   "cell_type": "code",
   "execution_count": 5,
   "metadata": {},
   "outputs": [],
   "source": [
    "import cv2\n",
    "import mediapipe as mp\n",
    "import numpy as np\n",
    "\n",
    "mp_holistic = mp.solutions.holistic  # For body + face + hands\n",
    "mp_drawing = mp.solutions.drawing_utils\n",
    "\n",
    "def extract_keypoints_from_video(video_path):\n",
    "    # Load video\n",
    "    cap = cv2.VideoCapture(video_path)\n",
    "    holistic = mp_holistic.Holistic(static_image_mode=False, min_detection_confidence=0.5)\n",
    "    \n",
    "    keypoints_list = []\n",
    "    max_keypoints = 0  # Track maximum number of keypoints in any frame\n",
    "    \n",
    "    while cap.isOpened():\n",
    "        ret, frame = cap.read()\n",
    "        if not ret:\n",
    "            break\n",
    "\n",
    "        # Convert the image color to RGB\n",
    "        image = cv2.cvtColor(frame, cv2.COLOR_BGR2RGB)\n",
    "        image.flags.writeable = False\n",
    "\n",
    "        # Make detections\n",
    "        results = holistic.process(image)\n",
    "        \n",
    "        keypoints = []\n",
    "        if results.left_hand_landmarks:\n",
    "            keypoints.extend([[lmk.x, lmk.y, lmk.z] for lmk in results.left_hand_landmarks.landmark])\n",
    "        if results.right_hand_landmarks:\n",
    "            keypoints.extend([[lmk.x, lmk.y, lmk.z] for lmk in results.right_hand_landmarks.landmark])\n",
    "        \n",
    "        # Track the maximum number of keypoints seen\n",
    "        max_keypoints = max(max_keypoints, len(keypoints))\n",
    "        keypoints_list.append(keypoints)\n",
    "    \n",
    "    cap.release()\n",
    "\n",
    "    # Pad all frames with missing keypoints\n",
    "    for i in range(len(keypoints_list)):\n",
    "        if len(keypoints_list[i]) < max_keypoints:\n",
    "            # Pad the keypoints with zeros (or you could use None)\n",
    "            keypoints_list[i].extend([[0.0, 0.0, 0.0]] * (max_keypoints - len(keypoints_list[i])))\n",
    "\n",
    "    return np.array(keypoints_list)  # Now all frames should have the same number of keypoints\n",
    "\n",
    "dataset_video_keypoints = extract_keypoints_from_video(r\"D:\\Free lancing\\Sign language validator\\66039.mp4\")\n",
    "user_video_keypoints = extract_keypoints_from_video(r\"D:\\Free lancing\\Sign language validator\\test_a.mp4\")\n"
   ]
  },
  {
   "cell_type": "code",
   "execution_count": 6,
   "metadata": {},
   "outputs": [
    {
     "data": {
      "text/plain": [
       "((62, 21, 3), (91, 21, 3))"
      ]
     },
     "execution_count": 6,
     "metadata": {},
     "output_type": "execute_result"
    }
   ],
   "source": [
    "dataset_video_keypoints.shape, user_video_keypoints.shape"
   ]
  },
  {
   "cell_type": "code",
   "execution_count": 7,
   "metadata": {},
   "outputs": [],
   "source": [
    "from scipy.spatial.distance import euclidean\n",
    "\n",
    "def calculate_frame_distance(keypoints1, keypoints2):\n",
    "    \"\"\"\n",
    "    Compare two sets of keypoints frame by frame using Euclidean distance.\n",
    "    keypoints1, keypoints2: numpy arrays of shape (n_frames, n_keypoints, 3)\n",
    "    \"\"\"\n",
    "    distances = []\n",
    "    for frame1, frame2 in zip(keypoints1, keypoints2):\n",
    "        frame_distances = [euclidean(kp1, kp2) for kp1, kp2 in zip(frame1, frame2)]\n",
    "        distances.append(np.mean(frame_distances))  # Average distance per frame\n",
    "    return distances\n",
    "\n",
    "distances = calculate_frame_distance(dataset_video_keypoints, user_video_keypoints)\n"
   ]
  },
  {
   "cell_type": "code",
   "execution_count": 8,
   "metadata": {},
   "outputs": [
    {
     "name": "stdout",
     "output_type": "stream",
     "text": [
      "Similarity: 53.90%, <class 'numpy.float64'>\n"
     ]
    }
   ],
   "source": [
    "def calculate_similarity_score(distances):\n",
    "    \"\"\"\n",
    "    Map the average frame distances to a similarity score (percentage).\n",
    "    Handle edge cases where distances are all zero.\n",
    "    \"\"\"\n",
    "    # Check if all distances are zero\n",
    "    if np.all(distances == 0):\n",
    "        return 100.0  # 100% similarity if all distances are zero\n",
    "\n",
    "    max_distance = np.max(distances)\n",
    "    \n",
    "    # Avoid division by zero, if max_distance is zero, set similarity to 100%\n",
    "    if max_distance == 0:\n",
    "        return 100.0\n",
    "    \n",
    "    # Compute similarity percentage based on average distances\n",
    "    similarity_percentage = (np.mean(distances) / max_distance) * 100\n",
    "    return similarity_percentage\n",
    "\n",
    "similarity = calculate_similarity_score(distances)\n",
    "print(f\"Similarity: {similarity:.2f}%, {type(similarity)}\")\n"
   ]
  },
  {
   "cell_type": "code",
   "execution_count": 2,
   "metadata": {},
   "outputs": [
    {
     "name": "stdout",
     "output_type": "stream",
     "text": [
      "WARNING:tensorflow:From c:\\Users\\BISHOY\\AppData\\Local\\Programs\\Python\\Python39\\lib\\site-packages\\keras\\src\\losses.py:2976: The name tf.losses.sparse_softmax_cross_entropy is deprecated. Please use tf.compat.v1.losses.sparse_softmax_cross_entropy instead.\n",
      "\n",
      "OpenCV version: 4.9.0\n",
      "MediaPipe version: 0.10.10\n",
      "Numpy version: 1.26.4\n",
      "SciPy version: 1.10.1\n"
     ]
    }
   ],
   "source": [
    "import cv2\n",
    "import mediapipe as mp\n",
    "import numpy as np\n",
    "import scipy\n",
    "\n",
    "# Print versions\n",
    "print(f\"OpenCV version: {cv2.__version__}\")\n",
    "print(f\"MediaPipe version: {mp.__version__}\")\n",
    "print(f\"Numpy version: {np.__version__}\")\n",
    "print(f\"SciPy version: {scipy.__version__}\")"
   ]
  },
  {
   "cell_type": "markdown",
   "metadata": {},
   "source": [
    "# OpenPose"
   ]
  },
  {
   "cell_type": "code",
   "execution_count": null,
   "metadata": {},
   "outputs": [],
   "source": [
    "import cv2\n",
    "import numpy as np\n",
    "from openpose import pyopenpose as op  # Import OpenPose library\n",
    "\n",
    "def extract_keypoints_from_video_openpose(video_path):\n",
    "    # Configure OpenPose parameters\n",
    "    params = {\n",
    "        \"model_folder\": \"models/\",  # Path to OpenPose models\n",
    "        \"face\": True,  # Enable face detection\n",
    "        \"hand\": True,  # Enable hand detection\n",
    "    }\n",
    "    \n",
    "    # Initialize OpenPose\n",
    "    opWrapper = op.WrapperPython()\n",
    "    opWrapper.configure(params)\n",
    "    opWrapper.start()\n",
    "\n",
    "    # Load video\n",
    "    cap = cv2.VideoCapture(video_path)\n",
    "    keypoints_list = []\n",
    "    max_keypoints = 0  # Track maximum number of keypoints in any frame\n",
    "    \n",
    "    while cap.isOpened():\n",
    "        ret, frame = cap.read()\n",
    "        if not ret:\n",
    "            break\n",
    "        \n",
    "        # Prepare frame for OpenPose\n",
    "        datum = op.Datum()\n",
    "        datum.cvInputData = frame\n",
    "        opWrapper.emplaceAndPop([datum])\n",
    "        \n",
    "        keypoints = []\n",
    "        \n",
    "        # Extract body keypoints\n",
    "        if datum.poseKeypoints is not None:\n",
    "            keypoints.extend(datum.poseKeypoints[0].tolist())  # Assuming single person\n",
    "        \n",
    "        # Extract face keypoints\n",
    "        if datum.faceKeypoints is not None:\n",
    "            keypoints.extend(datum.faceKeypoints[0].tolist())\n",
    "        \n",
    "        # Extract hand keypoints\n",
    "        if datum.handKeypoints[0] is not None:  # Left hand\n",
    "            keypoints.extend(datum.handKeypoints[0][0].tolist())\n",
    "        if datum.handKeypoints[1] is not None:  # Right hand\n",
    "            keypoints.extend(datum.handKeypoints[1][0].tolist())\n",
    "        \n",
    "        # Track the maximum number of keypoints seen\n",
    "        max_keypoints = max(max_keypoints, len(keypoints))\n",
    "        keypoints_list.append(keypoints)\n",
    "\n",
    "    cap.release()\n",
    "    \n",
    "    # Pad all frames with missing keypoints\n",
    "    for i in range(len(keypoints_list)):\n",
    "        if len(keypoints_list[i]) < max_keypoints:\n",
    "            # Pad the keypoints with zeros (or you could use None)\n",
    "            keypoints_list[i].extend([[0.0, 0.0, 0.0]] * (max_keypoints - len(keypoints_list[i])))\n",
    "    \n",
    "    return np.array(keypoints_list)\n",
    "\n",
    "# Extract keypoints using OpenPose\n",
    "dataset_video_keypoints = extract_keypoints_from_video_openpose(r\"D:\\Free lancing\\Sign language validator\\66039.mp4\")\n",
    "user_video_keypoints = extract_keypoints_from_video_openpose(r\"D:\\Free lancing\\Sign language validator\\test_a.mp4\")\n",
    "\n",
    "# Continue with frame comparison and similarity calculations...\n",
    "distances = calculate_frame_distance(dataset_video_keypoints, user_video_keypoints)\n",
    "similarity = calculate_similarity_score(distances)\n",
    "print(f\"Similarity: {similarity:.2f}%, {type(similarity)}\")\n"
   ]
  },
  {
   "cell_type": "markdown",
   "metadata": {},
   "source": [
    "# OpenCV"
   ]
  },
  {
   "cell_type": "code",
   "execution_count": 1,
   "metadata": {},
   "outputs": [
    {
     "ename": "error",
     "evalue": "OpenCV(4.9.0) D:\\a\\opencv-python\\opencv-python\\opencv\\modules\\dnn\\src\\caffe\\caffe_io.cpp:1126: error: (-2:Unspecified error) FAILED: fs.is_open(). Can't open \"pose_deploy_linevec.prototxt\" in function 'cv::dnn::ReadProtoFromTextFile'\n",
     "output_type": "error",
     "traceback": [
      "\u001b[1;31m---------------------------------------------------------------------------\u001b[0m",
      "\u001b[1;31merror\u001b[0m                                     Traceback (most recent call last)",
      "Cell \u001b[1;32mIn[1], line 5\u001b[0m\n\u001b[0;32m      2\u001b[0m \u001b[38;5;28;01mimport\u001b[39;00m \u001b[38;5;21;01mnumpy\u001b[39;00m \u001b[38;5;28;01mas\u001b[39;00m \u001b[38;5;21;01mnp\u001b[39;00m\n\u001b[0;32m      4\u001b[0m \u001b[38;5;66;03m# Load body pose detection model (you can use COCO or MPI models)\u001b[39;00m\n\u001b[1;32m----> 5\u001b[0m pose_net \u001b[38;5;241m=\u001b[39m \u001b[43mcv2\u001b[49m\u001b[38;5;241;43m.\u001b[39;49m\u001b[43mdnn\u001b[49m\u001b[38;5;241;43m.\u001b[39;49m\u001b[43mreadNetFromCaffe\u001b[49m\u001b[43m(\u001b[49m\u001b[38;5;124;43m\"\u001b[39;49m\u001b[38;5;124;43mpose_deploy_linevec.prototxt\u001b[39;49m\u001b[38;5;124;43m\"\u001b[39;49m\u001b[43m,\u001b[49m\u001b[43m \u001b[49m\n\u001b[0;32m      6\u001b[0m \u001b[43m                                    \u001b[49m\u001b[38;5;124;43m\"\u001b[39;49m\u001b[38;5;124;43mpose_iter_440000.caffemodel\u001b[39;49m\u001b[38;5;124;43m\"\u001b[39;49m\u001b[43m)\u001b[49m  \u001b[38;5;66;03m# Downloaded from OpenCV/OpenPose\u001b[39;00m\n\u001b[0;32m      8\u001b[0m \u001b[38;5;66;03m# Load face detector model\u001b[39;00m\n\u001b[0;32m      9\u001b[0m face_cascade \u001b[38;5;241m=\u001b[39m cv2\u001b[38;5;241m.\u001b[39mCascadeClassifier(cv2\u001b[38;5;241m.\u001b[39mdata\u001b[38;5;241m.\u001b[39mhaarcascades \u001b[38;5;241m+\u001b[39m \u001b[38;5;124m'\u001b[39m\u001b[38;5;124mhaarcascade_frontalface_default.xml\u001b[39m\u001b[38;5;124m'\u001b[39m)\n",
      "\u001b[1;31merror\u001b[0m: OpenCV(4.9.0) D:\\a\\opencv-python\\opencv-python\\opencv\\modules\\dnn\\src\\caffe\\caffe_io.cpp:1126: error: (-2:Unspecified error) FAILED: fs.is_open(). Can't open \"pose_deploy_linevec.prototxt\" in function 'cv::dnn::ReadProtoFromTextFile'\n"
     ]
    }
   ],
   "source": [
    "import cv2\n",
    "import numpy as np\n",
    "\n",
    "# Load body pose detection model (you can use COCO or MPI models)\n",
    "pose_net = cv2.dnn.readNetFromCaffe(\"pose_deploy_linevec.prototxt\", \n",
    "                                    \"pose_iter_440000.caffemodel\")  # Downloaded from OpenCV/OpenPose\n",
    "\n",
    "# Load face detector model\n",
    "face_cascade = cv2.CascadeClassifier(cv2.data.haarcascades + 'haarcascade_frontalface_default.xml')\n",
    "\n",
    "def extract_keypoints_from_video_opencv(video_path):\n",
    "    cap = cv2.VideoCapture(video_path)\n",
    "    keypoints_list = []\n",
    "    max_keypoints = 0  # Track maximum number of keypoints in any frame\n",
    "\n",
    "    while cap.isOpened():\n",
    "        ret, frame = cap.read()\n",
    "        if not ret:\n",
    "            break\n",
    "\n",
    "        frame_height, frame_width = frame.shape[:2]\n",
    "        \n",
    "        # Body Keypoints detection\n",
    "        inp_blob = cv2.dnn.blobFromImage(frame, 1.0 / 255, (368, 368), (0, 0, 0), swapRB=False, crop=False)\n",
    "        pose_net.setInput(inp_blob)\n",
    "        output = pose_net.forward()\n",
    "\n",
    "        # Process pose keypoints (assuming 15 body parts)\n",
    "        keypoints = []\n",
    "        for part in range(output.shape[1]): \n",
    "            heat_map = output[0, part, :, :]\n",
    "            _, conf, _, point = cv2.minMaxLoc(heat_map)\n",
    "            x = (frame_width * point[0]) / output.shape[3]\n",
    "            y = (frame_height * point[1]) / output.shape[2]\n",
    "            keypoints.append([x, y, conf])\n",
    "\n",
    "        # Face Keypoints detection\n",
    "        gray = cv2.cvtColor(frame, cv2.COLOR_BGR2GRAY)\n",
    "        faces = face_cascade.detectMultiScale(gray, 1.3, 5)\n",
    "        for (x, y, w, h) in faces:\n",
    "            face_center = [x + w // 2, y + h // 2, 1.0]\n",
    "            keypoints.append(face_center)  # Simplified as face center point\n",
    "\n",
    "        # Track the maximum number of keypoints seen\n",
    "        max_keypoints = max(max_keypoints, len(keypoints))\n",
    "        keypoints_list.append(keypoints)\n",
    "    \n",
    "    cap.release()\n",
    "\n",
    "    # Pad all frames with missing keypoints\n",
    "    for i in range(len(keypoints_list)):\n",
    "        if len(keypoints_list[i]) < max_keypoints:\n",
    "            keypoints_list[i].extend([[0.0, 0.0, 0.0]] * (max_keypoints - len(keypoints_list[i])))\n",
    "\n",
    "    return np.array(keypoints_list)\n",
    "\n",
    "# Extract keypoints using OpenCV DNN\n",
    "dataset_video_keypoints = extract_keypoints_from_video_opencv(r\"D:\\Free lancing\\Sign language validator\\66039.mp4\")\n",
    "user_video_keypoints = extract_keypoints_from_video_opencv(r\"D:\\Free lancing\\Sign language validator\\test_a.mp4\")\n",
    "\n",
    "# Continue with frame comparison and similarity calculations...\n",
    "distances = calculate_frame_distance(dataset_video_keypoints, user_video_keypoints)\n",
    "similarity = calculate_similarity_score(distances)\n",
    "print(f\"Similarity: {similarity:.2f}%, {type(similarity)}\")\n"
   ]
  },
  {
   "cell_type": "code",
   "execution_count": 2,
   "metadata": {},
   "outputs": [
    {
     "name": "stdout",
     "output_type": "stream",
     "text": [
      "Python version: 3.9.5 (tags/v3.9.5:0a7dcbd, May  3 2021, 17:27:52) [MSC v.1928 64 bit (AMD64)]\n"
     ]
    }
   ],
   "source": [
    "import sys\n",
    "\n",
    "# Print Python version\n",
    "print(f\"Python version: {sys.version}\")"
   ]
  },
  {
   "cell_type": "code",
   "execution_count": null,
   "metadata": {},
   "outputs": [],
   "source": []
  }
 ],
 "metadata": {
  "kernelspec": {
   "display_name": "Python 3",
   "language": "python",
   "name": "python3"
  },
  "language_info": {
   "codemirror_mode": {
    "name": "ipython",
    "version": 3
   },
   "file_extension": ".py",
   "mimetype": "text/x-python",
   "name": "python",
   "nbconvert_exporter": "python",
   "pygments_lexer": "ipython3",
   "version": "3.9.5"
  }
 },
 "nbformat": 4,
 "nbformat_minor": 2
}
